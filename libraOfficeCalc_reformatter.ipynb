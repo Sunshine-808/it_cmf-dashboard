{
 "cells": [
  {
   "cell_type": "code",
   "execution_count": 6,
   "id": "e1745a2e",
   "metadata": {},
   "outputs": [
    {
     "name": "stdout",
     "output_type": "stream",
     "text": [
      "Expanded sheet written to: artifacts_expanded.ods\n"
     ]
    }
   ],
   "source": [
    "import pandas as pd\n",
    "\n",
    "# --- CONFIG ---\n",
    "INPUT_FILE = \"nodes_and_links.ods\"   # change path if needed\n",
    "SHEET_NAME = \"Artifacts\"\n",
    "DELIM = \";\"            # your requested delimiter\n",
    "OUTPUT_FILE = \"artifacts_expanded.ods\"  #\n",
    "\n",
    "# Load the sheet\n",
    "df = pd.read_excel(\"nodes_and_links.ods\", sheet_name=\"Artifacts\", engine=\"odf\")\n",
    "\n",
    "# assume ID is column 0, the two multi-line columns are column 1 and 2\n",
    "id_col = df.columns[0]\n",
    "col2 = df.columns[1]\n",
    "#col3 = df.columns[2]\n",
    "\n",
    "# --- prepare split lists: handle NaN, split, and strip whitespace ---\n",
    "def safe_split(series, delim):\n",
    "    return (\n",
    "        series.fillna(\"\")                        # replace NaN with empty string\n",
    "              .astype(str)                       # in case there are numbers\n",
    "              .apply(lambda s: [p.strip() for p in s.split(delim)])  # split & strip\n",
    "    )\n",
    "\n",
    "df[col2 + \"_split\"] = safe_split(df[col2], DELIM)\n",
    "#df[col3 + \"_split\"] = safe_split(df[col3], DELIM)\n",
    "\n",
    "# --- function to expand a single row into a DataFrame ---\n",
    "def expand_row(row):\n",
    "    a = row[col2 + \"_split\"]\n",
    "    #b = row[col3 + \"_split\"]\n",
    "    # ensure lists\n",
    "    if not isinstance(a, list): a = [a]\n",
    "    #if not isinstance(b, list): b = [b]\n",
    "    max_len = len(a)\n",
    "    # pad shorter with empty strings so they align\n",
    "    a = a + [\"\"] * (max_len - len(a))\n",
    "    #b = b + [\"\"] * (max_len - len(b))\n",
    "    return pd.DataFrame({\n",
    "        id_col: [row[id_col]] * max_len,\n",
    "        col2: a,\n",
    "        #col3: b\n",
    "    })\n",
    "\n",
    "# --- APPLY row-by-row and collect into a LIST (important: list, not Series) ---\n",
    "expanded_dfs = [expand_row(row) for _, row in df.iterrows()]   # list comprehension\n",
    "\n",
    "# If you prefer apply(), ensure you convert to list:\n",
    "# expanded_dfs = df.apply(expand_row, axis=1).tolist()\n",
    "\n",
    "# --- CONCAT the list of DataFrames ---\n",
    "expanded_df = pd.concat(expanded_dfs, ignore_index=True)\n",
    "\n",
    "# --- OPTIONAL: show rows where original split lengths differed (warning) ---\n",
    "#mismatch_mask = df[col2 + \"_split\"].apply(len) != df[col3 + \"_split\"].apply(len)\n",
    "#if mismatch_mask.any():\n",
    " #   print(\"Warning: some rows had differing number of items in Col2\")\n",
    " #  print(\"Rows with mismatches (index, len_col2:\")\n",
    " #   for i in df[mismatch_mask].index:\n",
    " #       print(i, len(df.at[i, col2 + \"_split\"]))\n",
    "\n",
    "# --- SAVE result ---\n",
    "expanded_df.to_excel(OUTPUT_FILE, index=False)\n",
    "print(\"Expanded sheet written to:\", OUTPUT_FILE)\n"
   ]
  }
 ],
 "metadata": {
  "kernelspec": {
   "display_name": "Python 3 (ipykernel)",
   "language": "python",
   "name": "python3"
  },
  "language_info": {
   "codemirror_mode": {
    "name": "ipython",
    "version": 3
   },
   "file_extension": ".py",
   "mimetype": "text/x-python",
   "name": "python",
   "nbconvert_exporter": "python",
   "pygments_lexer": "ipython3",
   "version": "3.12.3"
  }
 },
 "nbformat": 4,
 "nbformat_minor": 5
}
